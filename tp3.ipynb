{
 "cells": [
  {
   "cell_type": "markdown",
   "id": "498731c6",
   "metadata": {},
   "source": [
    "# Trabajo Practico n3 - Trabajando con Lists y Sets.\n",
    "## Criterios de evaluación.\n",
    "\n",
    "* Se deben utilizar nombres de variables descriptivos y claros (Utilizar la nomeclatura correspondiente para los nombres de variables).\n",
    "* Comentarios claros y concisos que expliquen el propósito de cada sección del código.\n",
    "* Utilizar mensajes de commit **descriptivos**. (Puedes utilizar la extension CONVENTIONAL COMMIT de VS-CODE). \n",
    "* Entrega en tiempo y forma.\n",
    "* Todo el código desarrollado debe ser subido a un repositorio en GitHub (el nombre del repositorio de seguir la siguiente estructura: tp3_tlp3_nombre_apellido).\n",
    "* Para resolver las actividades se debe insertar casillas de codigo entre cada actividad del cuaderno de Jupyter\n",
    "* El repositorio de GitHub debe incluir un archivo README.md con las instrucciones necesarias para la correcta ejecución del código.\n",
    "\n",
    "### ¡Importante!\n",
    "**El incumplimiento de los criterios de evaluación restará puntos en la nota final del práctico!**"
   ]
  },
  {
   "cell_type": "markdown",
   "id": "b361a7b6",
   "metadata": {},
   "source": [
    "### Actividad 1: \n",
    "Suma de todos los elementos de una lista, utilizando bucles repetitivos (for, while)."
   ]
  },
  {
   "cell_type": "code",
   "execution_count": 2,
   "id": "26009294",
   "metadata": {},
   "outputs": [
    {
     "name": "stdout",
     "output_type": "stream",
     "text": [
      "esta es la suma: 204\n"
     ]
    }
   ],
   "source": [
    "\n",
    "# todo:\n",
    "\n",
    "numbers = [14, 23, 34, 48, 85]\n",
    "\n",
    "suma = 0 #inicio el contador en cero\n",
    "\n",
    "for num in numbers:\n",
    "    suma += num\n",
    "print(f\"esta es la suma: {suma}\")\n",
    "\n",
    "\n",
    "    "
   ]
  },
  {
   "cell_type": "code",
   "execution_count": 3,
   "id": "1ac28ded",
   "metadata": {},
   "outputs": [
    {
     "name": "stdout",
     "output_type": "stream",
     "text": [
      "esta es la segundo suma: 204\n"
     ]
    }
   ],
   "source": [
    "# todo:\n",
    "\n",
    "suma2 = 0 #reinicio el contador a 0\n",
    "i = 0\n",
    "while i < 5:\n",
    "    suma2 += numbers[i] #se suma cada elemento de la lista\n",
    "\n",
    "    i += 1 #es para mover el indice al siguiente elemento y evitar que se haga un bucle infinito\n",
    "print(f\"esta es la segundo suma: {suma2}\")"
   ]
  },
  {
   "cell_type": "markdown",
   "id": "0c239195",
   "metadata": {},
   "source": [
    "### Actividad 2: \n",
    "Encontrar el número más grande en una lista, utilizando bucles repetitivos (for, while)."
   ]
  },
  {
   "cell_type": "code",
   "execution_count": 4,
   "id": "3611d25a",
   "metadata": {},
   "outputs": [
    {
     "name": "stdout",
     "output_type": "stream",
     "text": [
      "72\n",
      "100\n",
      "46\n",
      "10\n",
      "15\n",
      "este es el número maximo: 100\n"
     ]
    }
   ],
   "source": [
    "\n",
    "# todo:\n",
    "\n",
    "from random import randint\n",
    "random_numbers =[randint(1, 100) for i in range(5)] #genera 5 numeros aleatorios entre el 1 y 100\n",
    "num_max = random_numbers[0] #asignamos el primer número del array creado para comparar con los demás\n",
    "\n",
    "for i in range (len(random_numbers)):\n",
    "    print(random_numbers[i]) #imprime los números aleatorios generados\n",
    "    if random_numbers[i] > num_max:\n",
    "        num_max = random_numbers[i]\n",
    "print(f\"este es el número maximo: {num_max}\")\n"
   ]
  },
  {
   "cell_type": "code",
   "execution_count": 5,
   "id": "c74fdfa9",
   "metadata": {},
   "outputs": [
    {
     "name": "stdout",
     "output_type": "stream",
     "text": [
      "este es el número máximo: 100\n"
     ]
    }
   ],
   "source": [
    "i = 0\n",
    "num_maximo = random_numbers[0]\n",
    "while i < len(random_numbers):\n",
    "    if random_numbers[i] > num_maximo:\n",
    "        num_maximo = random_numbers[i]\n",
    "    i += 1\n",
    "print(f\"este es el número máximo: {num_maximo}\")\n"
   ]
  },
  {
   "cell_type": "markdown",
   "id": "70a24b97",
   "metadata": {},
   "source": [
    "### Actividad 3:\n",
    "Contar cuántas veces aparece un número específico. Utiliza estructuras repetitivas para la resolucion de este ejercicio. "
   ]
  },
  {
   "cell_type": "code",
   "execution_count": 6,
   "id": "a9c8ebc7",
   "metadata": {},
   "outputs": [
    {
     "name": "stdout",
     "output_type": "stream",
     "text": [
      "El número 4 aparece 1 veces\n"
     ]
    }
   ],
   "source": [
    "\n",
    "# todo:\n",
    "\n",
    "lists = [randint(1, 200) for i in range(20)]\n",
    "\n",
    "# Número a buscar\n",
    "num_buscar = int(input(\"Ingresa el número que deseas buscar: \"))\n",
    "\n",
    "# contador iniciando en 0\n",
    "contador_for = 0\n",
    "#contar cuatas veces aparece el número\n",
    "for num in lists: \n",
    "    if num == num_buscar:\n",
    "        contador_for += 1\n",
    "print(f\"El número {num_buscar} aparece {contador_for} veces\")\n",
    " "
   ]
  },
  {
   "cell_type": "markdown",
   "id": "b8dac397",
   "metadata": {},
   "source": [
    "### Actividad 4: \n",
    "Invertir una lista sin usar reverse() ni [::-1]"
   ]
  },
  {
   "cell_type": "code",
   "execution_count": 21,
   "id": "d04fd492",
   "metadata": {},
   "outputs": [
    {
     "name": "stdout",
     "output_type": "stream",
     "text": [
      "esta es la lista original: [11, 46, 43, 40, 17, 14, 27, 6]\n",
      "Lista invertida: [6, 27, 14, 17, 40, 43, 46, 11]\n"
     ]
    }
   ],
   "source": [
    "\n",
    "# todo:\n",
    "lists_two = [randint(1, 50) for i in range(8)]\n",
    "print(f\"esta es la lista original: {lists_two}\")\n",
    "# invertir la lista usando el for\n",
    "lista_invertida = []\n",
    "for i in range(len(lists_two) - 1, -1, -1):\n",
    "    lista_invertida.append(lists_two[i])\n",
    "\n",
    "print(f\"Lista invertida: {lista_invertida}\")"
   ]
  },
  {
   "cell_type": "markdown",
   "id": "8889d0f2",
   "metadata": {},
   "source": [
    "### Actividad 5:\n",
    "Sumar los elementos de dos listas posición por posición, utilizando solo bucles repetititivos (for,while)."
   ]
  },
  {
   "cell_type": "code",
   "execution_count": 22,
   "id": "bc0ec844",
   "metadata": {},
   "outputs": [
    {
     "name": "stdout",
     "output_type": "stream",
     "text": [
      "Suma con for: [3, 7, 11, 16, 18]\n"
     ]
    }
   ],
   "source": [
    "\n",
    "# todo:\n",
    "\n",
    "lists_one = [2, 4, 6, 7, 8]\n",
    "lists_two = [1, 3, 5, 9, 10]\n",
    "\n",
    "#suma posición por posición usando for\n",
    "suma_for = []\n",
    "for i in range(len(lists_one)):\n",
    "    suma_for.append(lists_one[i] + lists_two[i])\n",
    "print(f\"Suma con for: {suma_for}\")\n"
   ]
  },
  {
   "cell_type": "markdown",
   "id": "8ce33e6b",
   "metadata": {},
   "source": [
    "### Actividad 6:\n",
    "\n",
    "Escribir un programa que almacene el abecedario en una lista, elimine de la lista las letras que ocupen posiciones múltiplos de 3, y muestre por pantalla la lista resultante."
   ]
  },
  {
   "cell_type": "code",
   "execution_count": 23,
   "id": "b07326e2",
   "metadata": {},
   "outputs": [
    {
     "name": "stdout",
     "output_type": "stream",
     "text": [
      "abecedario original: ['a', 'b', 'c', 'd', 'e', 'f', 'g', 'h', 'i', 'j', 'k', 'l', 'm', 'n', 'o', 'p', 'q', 'r', 's', 't', 'u', 'v', 'w', 'x', 'y', 'z']\n",
      "abecedario sin posiciones múltiplos de 3: ['a', 'b', 'd', 'e', 'g', 'h', 'j', 'k', 'm', 'n', 'p', 'q', 's', 't', 'v', 'w', 'y', 'z']\n"
     ]
    }
   ],
   "source": [
    "\n",
    "# todo:\n",
    "#lista con el abecedario\n",
    "abecedario = list(\"abcdefghijklmnopqrstuvwxyz\")\n",
    "print(f\"abecedario original: {abecedario}\")\n",
    "\n",
    "#lista sin los multiplos de 3\n",
    "resultado = []\n",
    "for i in range(len(abecedario)):\n",
    "    if (i + 1) % 3 != 0:  # (i + 1) porque las posiciones empiezan desde 1\n",
    "        resultado.append(abecedario[i])\n",
    "\n",
    "print(f\"abecedario sin posiciones múltiplos de 3: {resultado}\")"
   ]
  },
  {
   "cell_type": "markdown",
   "id": "5bfeb4b5",
   "metadata": {},
   "source": [
    "### Actividad 7:\n",
    "\n",
    "Escribir un programa que pida al usuario una palabra y muestre por pantalla si es un palíndromo (una palabra que se escribe de la misma forma al derecho y al reves)."
   ]
  },
  {
   "cell_type": "code",
   "execution_count": 24,
   "id": "2365afcc",
   "metadata": {},
   "outputs": [
    {
     "name": "stdout",
     "output_type": "stream",
     "text": [
      "La palabra 'neuquen' es un palíndromo.\n"
     ]
    }
   ],
   "source": [
    "\n",
    "# todo:\n",
    "#pedir al usuario que ingrese una palabra \n",
    "palabra = input(\"Ingresa una palabra: \").lower()  #convertir a minúsculas para evitar problemas\n",
    "\n",
    "# verificación\n",
    "if palabra == palabra[::-1]:  #comparar la palabra escrita alrevez \n",
    "    print(f\"La palabra '{palabra}' es un palíndromo.\")\n",
    "else:\n",
    "    print(f\"La palabra '{palabra}' no es un palíndromo.\")"
   ]
  },
  {
   "cell_type": "markdown",
   "id": "ed8b51be",
   "metadata": {},
   "source": [
    "### Actividad 8:\n",
    "\n",
    "Teniendo en cuenta el conjunto 1 y el conjunto 2, sin usar el operador de intersección &, calcular la intersección de dichos conjuntos."
   ]
  },
  {
   "cell_type": "code",
   "execution_count": 25,
   "id": "21a434b9",
   "metadata": {},
   "outputs": [
    {
     "name": "stdout",
     "output_type": "stream",
     "text": [
      "Conjunto 1: {1, 2, 3, 4}\n",
      "Conjunto 2: {3, 4, 5, 6}\n",
      "Intersección: {3, 4}\n"
     ]
    }
   ],
   "source": [
    "conjunto1 = {1, 2, 3, 4}\n",
    "conjunto2 = {3, 4, 5, 6}\n",
    "# todo:\n",
    "\n",
    "interseccion = set()\n",
    "\n",
    "for elemento in conjunto1:\n",
    "    if elemento in conjunto2:\n",
    "        interseccion.add(elemento)\n",
    "\n",
    "print(f\"Conjunto 1: {conjunto1}\")\n",
    "\n",
    "print(f\"Conjunto 2: {conjunto2}\")\n",
    "\n",
    "print(f\"Intersección: {interseccion}\")"
   ]
  },
  {
   "cell_type": "markdown",
   "id": "31b460dc",
   "metadata": {},
   "source": [
    "### Actividad 9:\n",
    "Eliminar duplicados de una lista usando un set."
   ]
  },
  {
   "cell_type": "code",
   "execution_count": null,
   "id": "0ef62008",
   "metadata": {},
   "outputs": [
    {
     "name": "stdout",
     "output_type": "stream",
     "text": [
      "Lista sin duplicados: [1, 2, 3, 4, 5]\n"
     ]
    }
   ],
   "source": [
    "\n",
    "# todo:\n",
    "lista = [1, 2, 2, 3, 4, 4, 5]\n",
    "\n",
    "#eliminar duplicados\n",
    "\n",
    "lista_sin_duplicados = list(set(lista))\n",
    "\n",
    "print(f\"Lista sin duplicados: {lista_sin_duplicados}\")\n"
   ]
  },
  {
   "cell_type": "markdown",
   "id": "075f1f2c",
   "metadata": {},
   "source": [
    "### Actividad 10:\n",
    "\n",
    "Escribir un programa que cree 2 matrices y realice su multiplicacion."
   ]
  },
  {
   "cell_type": "code",
   "execution_count": null,
   "id": "4c1fd0e1",
   "metadata": {},
   "outputs": [
    {
     "name": "stdout",
     "output_type": "stream",
     "text": [
      "Matriz 1:\n",
      "[1, 2, 3]\n",
      "[4, 5, 6]\n",
      "[7, 8, 9]\n",
      "\n",
      "Matriz 2:\n",
      "[9, 8, 7]\n",
      "[6, 5, 4]\n",
      "[3, 2, 1]\n",
      "\n",
      "Resultado de la multiplicación:\n",
      "[30, 24, 18]\n",
      "[84, 69, 54]\n",
      "[138, 114, 90]\n"
     ]
    }
   ],
   "source": [
    "\n",
    "# todo:\n",
    "#primero defino las matrices 3x3, matriz1 y matriz2\n",
    "\n",
    "matriz1 = [\n",
    "    [1, 2, 3],\n",
    "    [4, 5, 6],\n",
    "    [7, 8, 9]\n",
    "]\n",
    "\n",
    "matriz2 = [\n",
    "    [9, 8, 7],\n",
    "    [6, 5, 4],\n",
    "    [3, 2, 1]\n",
    "]\n",
    "\n",
    "# inicializar la matriz resultado con ceros\n",
    "resultado = [[0 for _ in range(len(matriz2[0]))] for _ in range(len(matriz1))]\n",
    "\n",
    "#mult de matrices\n",
    "for i in range(len(matriz1)):  #filas de matriz1\n",
    "    for j in range(len(matriz2[0])):  #columnas de matriz2\n",
    "        for k in range(len(matriz2)):  #filas de matriz2\n",
    "            resultado[i][j] += matriz1[i][k] * matriz2[k][j]\n",
    "\n",
    "#imprimir el resultado\n",
    "print(\"Matriz 1:\")\n",
    "for fila in matriz1:\n",
    "    print(fila)\n",
    "\n",
    "print(\"\\nMatriz 2:\")\n",
    "for fila in matriz2:\n",
    "    print(fila)\n",
    "\n",
    "print(\"\\nResultado de la multiplicación:\")\n",
    "for fila in resultado:\n",
    "    print(fila)"
   ]
  }
 ],
 "metadata": {
  "kernelspec": {
   "display_name": "Python 3",
   "language": "python",
   "name": "python3"
  },
  "language_info": {
   "codemirror_mode": {
    "name": "ipython",
    "version": 3
   },
   "file_extension": ".py",
   "mimetype": "text/x-python",
   "name": "python",
   "nbconvert_exporter": "python",
   "pygments_lexer": "ipython3",
   "version": "3.13.2"
  }
 },
 "nbformat": 4,
 "nbformat_minor": 5
}
